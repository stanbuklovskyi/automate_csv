{
 "cells": [
  {
   "cell_type": "code",
   "execution_count": 79,
   "id": "9ae12a6d",
   "metadata": {},
   "outputs": [],
   "source": [
    "# import libraries\n",
    "import os\n",
    "import numpy as np\n",
    "import pandas as pd"
   ]
  },
  {
   "cell_type": "code",
   "execution_count": 80,
   "id": "fe73ddcb",
   "metadata": {},
   "outputs": [],
   "source": [
    "# find all files with a needed extension (.csv)\n",
    "# os.listdir - all files\n",
    "# os.getcwd - get current working directory\n",
    "\n",
    "#get all csv files\n",
    "filtered_files=[]\n",
    "for file in os.listdir(os.getcwd()):\n",
    "    if file.endswith('.csv'):\n",
    "        filtered_files.append(file)"
   ]
  },
  {
   "cell_type": "code",
   "execution_count": 81,
   "id": "1f3bde17",
   "metadata": {},
   "outputs": [],
   "source": [
    "# make a new directory for processing and processed output\n",
    "directory = 'processed_files'\n",
    "\n",
    "# bash command to create a new directory, if error - pass\n",
    "try:\n",
    "    bash_command = f\"mkdir {directory}\"\n",
    "    # run the command\n",
    "    os.system(bash_command)\n",
    "except:\n",
    "    pass"
   ]
  },
  {
   "cell_type": "code",
   "execution_count": 82,
   "id": "1daf833b",
   "metadata": {},
   "outputs": [],
   "source": [
    "# rename files replacing ' ' with '_' in names\n",
    "rename_dict = {}\n",
    "for file in filtered_files:\n",
    "    rename_dict[file] = file.replace(\" \",\"_\")\n",
    "    os.rename(file, rename_dict[file])"
   ]
  },
  {
   "cell_type": "code",
   "execution_count": 83,
   "id": "b540e727",
   "metadata": {},
   "outputs": [],
   "source": [
    "# redo the file list\n",
    "\n",
    "#get all csv files\n",
    "filtered_files=[]\n",
    "for file in os.listdir(os.getcwd()):\n",
    "    if file.endswith('.csv'):\n",
    "        filtered_files.append(file)"
   ]
  },
  {
   "cell_type": "code",
   "execution_count": 84,
   "id": "e0220000",
   "metadata": {},
   "outputs": [
    {
     "name": "stdout",
     "output_type": "stream",
     "text": [
      "move data2.csv processed_files\n",
      "move data3.csv processed_files\n",
      "move data_1.csv processed_files\n"
     ]
    }
   ],
   "source": [
    "# move selected files to created directory\n",
    "full_path = os.getcwd()+'\\\\'+ directory +'\\\\'\n",
    "for file in filtered_files:\n",
    "    # bash command to move a file(mv for linux, move for Windows)\n",
    "    move_file = f\"move {file} {directory}\";\n",
    "    os.system(move_file)\n",
    "    print(move_file)"
   ]
  },
  {
   "cell_type": "code",
   "execution_count": 85,
   "id": "f8ac31ab",
   "metadata": {},
   "outputs": [
    {
     "name": "stdout",
     "output_type": "stream",
     "text": [
      "'data2.csv' file was imported\n",
      "'data3.csv' file was imported\n",
      "'data_1.csv' file was imported\n"
     ]
    }
   ],
   "source": [
    "# our working folder path\n",
    "working_path = os.getcwd()+'\\\\'+directory+'\\\\'\n",
    "\n",
    "\"\"\"\n",
    "At this point we append all dataframes to a dictionary.\n",
    "This may not be optimal if you process a lot of heavy data.\n",
    "In that case process each file separately in a loop\n",
    "\n",
    "for file in filtered_files:\n",
    "    dataframe = pd.read_csv(working_path+file)\n",
    "    ---precessing phase---\n",
    "    ---export---\n",
    "\"\"\"\n",
    "df = {}\n",
    "# open file and convert data to dataframe  (csv in this case)\n",
    "for file in filtered_files:\n",
    "    try:\n",
    "        df[file] = pd.read_csv(working_path+file)\n",
    "    except:\n",
    "        # handling encoding error exception\n",
    "        df[file] = pd.read_csv(working_path+file, encoding='ISO-8859-1')\n",
    "    print(f\"'{file}' file was imported\")\n",
    "            "
   ]
  },
  {
   "cell_type": "code",
   "execution_count": 18,
   "id": "dffb1415",
   "metadata": {},
   "outputs": [
    {
     "data": {
      "text/html": [
       "<div>\n",
       "<style scoped>\n",
       "    .dataframe tbody tr th:only-of-type {\n",
       "        vertical-align: middle;\n",
       "    }\n",
       "\n",
       "    .dataframe tbody tr th {\n",
       "        vertical-align: top;\n",
       "    }\n",
       "\n",
       "    .dataframe thead th {\n",
       "        text-align: right;\n",
       "    }\n",
       "</style>\n",
       "<table border=\"1\" class=\"dataframe\">\n",
       "  <thead>\n",
       "    <tr style=\"text-align: right;\">\n",
       "      <th></th>\n",
       "      <th>1</th>\n",
       "    </tr>\n",
       "  </thead>\n",
       "  <tbody>\n",
       "    <tr>\n",
       "      <th>0</th>\n",
       "      <td>2</td>\n",
       "    </tr>\n",
       "    <tr>\n",
       "      <th>1</th>\n",
       "      <td>3</td>\n",
       "    </tr>\n",
       "    <tr>\n",
       "      <th>2</th>\n",
       "      <td>4</td>\n",
       "    </tr>\n",
       "    <tr>\n",
       "      <th>3</th>\n",
       "      <td>5</td>\n",
       "    </tr>\n",
       "  </tbody>\n",
       "</table>\n",
       "</div>"
      ],
      "text/plain": [
       "   1\n",
       "0  2\n",
       "1  3\n",
       "2  4\n",
       "3  5"
      ]
     },
     "execution_count": 18,
     "metadata": {},
     "output_type": "execute_result"
    }
   ],
   "source": [
    "# here is the data processing phase\n",
    "# selected data was imported and you can do whatever you need to do with the data"
   ]
  },
  {
   "cell_type": "code",
   "execution_count": null,
   "id": "14fd2159",
   "metadata": {},
   "outputs": [],
   "source": []
  }
 ],
 "metadata": {
  "kernelspec": {
   "display_name": "Python 3 (ipykernel)",
   "language": "python",
   "name": "python3"
  },
  "language_info": {
   "codemirror_mode": {
    "name": "ipython",
    "version": 3
   },
   "file_extension": ".py",
   "mimetype": "text/x-python",
   "name": "python",
   "nbconvert_exporter": "python",
   "pygments_lexer": "ipython3",
   "version": "3.9.12"
  }
 },
 "nbformat": 4,
 "nbformat_minor": 5
}
