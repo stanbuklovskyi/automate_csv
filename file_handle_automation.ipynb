{
 "cells": [
  {
   "cell_type": "code",
   "execution_count": 20,
   "id": "9ae12a6d",
   "metadata": {},
   "outputs": [],
   "source": [
    "# import libraries\n",
    "import os\n",
    "import numpy as np\n",
    "import pandas as pd"
   ]
  },
  {
   "cell_type": "code",
   "execution_count": 21,
   "id": "fe73ddcb",
   "metadata": {},
   "outputs": [],
   "source": [
    "# find all files with a needed extension (.csv)\n",
    "# os.listdir - all files\n",
    "# os.getcwd - get current working directory\n",
    "\n",
    "#get all csv files\n",
    "filtered_files=[]\n",
    "for file in os.listdir(os.getcwd()):\n",
    "    if file.endswith('.csv'):\n",
    "        filtered_files.append(file)"
   ]
  },
  {
   "cell_type": "code",
   "execution_count": 22,
   "id": "1f3bde17",
   "metadata": {},
   "outputs": [],
   "source": [
    "# make a new directory for processing and processed output\n",
    "directory = 'processed_files'\n",
    "\n",
    "# bash command to create a new directory, if error - pass\n",
    "try:\n",
    "    bash_command = f\"mkdir {directory}\"\n",
    "    # run the command\n",
    "    os.system(bash_command)\n",
    "except:\n",
    "    pass"
   ]
  },
  {
   "cell_type": "code",
   "execution_count": 23,
   "id": "1daf833b",
   "metadata": {},
   "outputs": [],
   "source": [
    "# rename files replacing ' ' with '_' in names\n",
    "rename_dict = {}\n",
    "for file in filtered_files:\n",
    "    rename_dict[file] = file.replace(\" \",\"_\")\n",
    "    os.rename(file, rename_dict[file])"
   ]
  },
  {
   "cell_type": "code",
   "execution_count": 24,
   "id": "b540e727",
   "metadata": {},
   "outputs": [],
   "source": [
    "# redo the file list\n",
    "\n",
    "#get all csv files\n",
    "filtered_files=[]\n",
    "for file in os.listdir(os.getcwd()):\n",
    "    if file.endswith('.csv'):\n",
    "        filtered_files.append(file)"
   ]
  },
  {
   "cell_type": "code",
   "execution_count": 25,
   "id": "e0220000",
   "metadata": {},
   "outputs": [
    {
     "name": "stdout",
     "output_type": "stream",
     "text": [
      "move data2.csv processed_files\n",
      "move data3.csv processed_files\n",
      "move data_1.csv processed_files\n"
     ]
    }
   ],
   "source": [
    "# move selected files to created directory\n",
    "full_path = os.getcwd()+'\\\\'+ directory +'\\\\'\n",
    "for file in filtered_files:\n",
    "    # bash command to move a file(mv for linux, move for Windows)\n",
    "    move_file = f\"move {file} {directory}\";\n",
    "    os.system(move_file)\n",
    "    print(move_file)"
   ]
  },
  {
   "cell_type": "code",
   "execution_count": 26,
   "id": "f8ac31ab",
   "metadata": {},
   "outputs": [
    {
     "name": "stdout",
     "output_type": "stream",
     "text": [
      "'data2.csv' file was imported\n",
      "'data3.csv' file was imported\n",
      "'data_1.csv' file was imported\n"
     ]
    }
   ],
   "source": [
    "# our working folder path\n",
    "working_path = os.getcwd()+'\\\\'+directory+'\\\\'\n",
    "\n",
    "\"\"\"\n",
    "At this point we append all dataframes to a dictionary.\n",
    "This may not be optimal if you process a lot of heavy data.\n",
    "In that case process each file separately in a loop\n",
    "\n",
    "for file in filtered_files:\n",
    "    dataframe = pd.read_csv(working_path+file)\n",
    "    ---precessing phase---\n",
    "    ---export---\n",
    "\"\"\"\n",
    "df = {}\n",
    "# open file and convert data to dataframe  (csv in this case)\n",
    "for file in filtered_files:\n",
    "    try:\n",
    "        df[file] = pd.read_csv(working_path+file, header=None)\n",
    "    except:\n",
    "        # handling encoding error exception\n",
    "        df[file] = pd.read_csv(working_path+file, header=None, encoding='ISO-8859-1')\n",
    "    print(f\"'{file}' file was imported\")\n",
    "            "
   ]
  },
  {
   "cell_type": "code",
   "execution_count": 29,
   "id": "dffb1415",
   "metadata": {},
   "outputs": [],
   "source": [
    "\"\"\"\n",
    "Here is the data processing phase.\n",
    "Selected data was imported and you can do whatever you need to do with the data.\n",
    "In this case we just concat everything into one dataframe and \n",
    "export it as one csv\n",
    "\"\"\"\n",
    "# empy dataframe to append other dataframes\n",
    "dataframe = pd.DataFrame()\n",
    "for key in df.keys():\n",
    "    dataframe = pd.concat([dataframe, df[key]], axis=1)\n",
    "\n",
    "dataframe.columns = filtered_files"
   ]
  },
  {
   "cell_type": "code",
   "execution_count": 30,
   "id": "14fd2159",
   "metadata": {},
   "outputs": [
    {
     "data": {
      "text/html": [
       "<div>\n",
       "<style scoped>\n",
       "    .dataframe tbody tr th:only-of-type {\n",
       "        vertical-align: middle;\n",
       "    }\n",
       "\n",
       "    .dataframe tbody tr th {\n",
       "        vertical-align: top;\n",
       "    }\n",
       "\n",
       "    .dataframe thead th {\n",
       "        text-align: right;\n",
       "    }\n",
       "</style>\n",
       "<table border=\"1\" class=\"dataframe\">\n",
       "  <thead>\n",
       "    <tr style=\"text-align: right;\">\n",
       "      <th></th>\n",
       "      <th>data2.csv</th>\n",
       "      <th>data3.csv</th>\n",
       "      <th>data_1.csv</th>\n",
       "    </tr>\n",
       "  </thead>\n",
       "  <tbody>\n",
       "    <tr>\n",
       "      <th>0</th>\n",
       "      <td>6</td>\n",
       "      <td>11</td>\n",
       "      <td>1</td>\n",
       "    </tr>\n",
       "    <tr>\n",
       "      <th>1</th>\n",
       "      <td>7</td>\n",
       "      <td>12</td>\n",
       "      <td>2</td>\n",
       "    </tr>\n",
       "    <tr>\n",
       "      <th>2</th>\n",
       "      <td>8</td>\n",
       "      <td>13</td>\n",
       "      <td>3</td>\n",
       "    </tr>\n",
       "    <tr>\n",
       "      <th>3</th>\n",
       "      <td>9</td>\n",
       "      <td>14</td>\n",
       "      <td>4</td>\n",
       "    </tr>\n",
       "    <tr>\n",
       "      <th>4</th>\n",
       "      <td>10</td>\n",
       "      <td>15</td>\n",
       "      <td>5</td>\n",
       "    </tr>\n",
       "  </tbody>\n",
       "</table>\n",
       "</div>"
      ],
      "text/plain": [
       "   data2.csv  data3.csv  data_1.csv\n",
       "0          6         11           1\n",
       "1          7         12           2\n",
       "2          8         13           3\n",
       "3          9         14           4\n",
       "4         10         15           5"
      ]
     },
     "execution_count": 30,
     "metadata": {},
     "output_type": "execute_result"
    }
   ],
   "source": [
    "dataframe"
   ]
  },
  {
   "cell_type": "code",
   "execution_count": 34,
   "id": "f31e2fcf",
   "metadata": {},
   "outputs": [],
   "source": [
    "# export dataframe as one csv \n",
    "export_name = 'results.csv'\n",
    "dataframe.to_csv(working_path+export_name, index=False, header=True)"
   ]
  }
 ],
 "metadata": {
  "kernelspec": {
   "display_name": "Python 3 (ipykernel)",
   "language": "python",
   "name": "python3"
  },
  "language_info": {
   "codemirror_mode": {
    "name": "ipython",
    "version": 3
   },
   "file_extension": ".py",
   "mimetype": "text/x-python",
   "name": "python",
   "nbconvert_exporter": "python",
   "pygments_lexer": "ipython3",
   "version": "3.9.12"
  }
 },
 "nbformat": 4,
 "nbformat_minor": 5
}
